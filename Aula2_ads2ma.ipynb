{
  "nbformat": 4,
  "nbformat_minor": 0,
  "metadata": {
    "colab": {
      "provenance": []
    },
    "kernelspec": {
      "name": "python3",
      "display_name": "Python 3"
    },
    "language_info": {
      "name": "python"
    }
  },
  "cells": [
    {
      "cell_type": "code",
      "execution_count": 7,
      "metadata": {
        "colab": {
          "base_uri": "https://localhost:8080/"
        },
        "id": "3DYpNMFCc8hu",
        "outputId": "7ee48683-5470-4620-81be-ed35c7967eff"
      },
      "outputs": [
        {
          "output_type": "stream",
          "name": "stdout",
          "text": [
            "<class 'int'>\n",
            "edilson\n"
          ]
        }
      ],
      "source": [
        "# UNINASSAU\n",
        "# DOCENTE: CLOVES ROCHA\n",
        "# ESTUDANDE: EDILSON CAVALCANTE, GUILHERME MORAIS\n",
        "# TIPOS PRIMITIVOS DE DADOS\n",
        "\n",
        "\n",
        "#print('Hello World!')\n",
        "\n",
        "\n",
        "a = 'edilson'\n",
        "c = 10\n",
        "print(type(c))\n",
        "print(type(a))\n"
      ]
    }
  ]
}