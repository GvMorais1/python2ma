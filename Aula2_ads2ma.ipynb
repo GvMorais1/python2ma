{
  "nbformat": 4,
  "nbformat_minor": 0,
  "metadata": {
    "colab": {
      "provenance": [],
      "authorship_tag": "ABX9TyP9p//8Qwl2Wib8YpLklH5D",
      "include_colab_link": true
    },
    "kernelspec": {
      "name": "python3",
      "display_name": "Python 3"
    },
    "language_info": {
      "name": "python"
    }
  },
  "cells": [
    {
      "cell_type": "markdown",
      "metadata": {
        "id": "view-in-github",
        "colab_type": "text"
      },
      "source": [
        "<a href=\"https://colab.research.google.com/github/GvMorais1/python2ma/blob/main/Aula2_ads2ma.ipynb\" target=\"_parent\"><img src=\"https://colab.research.google.com/assets/colab-badge.svg\" alt=\"Open In Colab\"/></a>"
      ]
    },
    {
      "cell_type": "code",
      "execution_count": 8,
      "metadata": {
        "colab": {
          "base_uri": "https://localhost:8080/"
        },
        "id": "3DYpNMFCc8hu",
        "outputId": "4aab4ca3-bda7-4ae0-e1f8-5c9c7867420d"
      },
      "outputs": [
        {
          "output_type": "stream",
          "name": "stdout",
          "text": [
            "<class 'int'>\n",
            "<class 'str'>\n"
          ]
        }
      ],
      "source": [
        "# UNINASSAU\n",
        "# DOCENTE: CLOVES ROCHA\n",
        "# ESTUDANDE: EDILSON CAVALCANTE, GUILHERME MORAIS\n",
        "# TIPOS PRIMITIVOS DE DADOS\n",
        "\n",
        "\n",
        "#print('Hello World!')\n",
        "\n",
        "\n",
        "a = 'edilson'\n",
        "c = 10\n",
        "print(type(c))\n",
        "print(type(a))\n"
      ]
    }
  ]
}