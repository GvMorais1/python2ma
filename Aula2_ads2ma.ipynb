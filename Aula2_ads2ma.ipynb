{
  "nbformat": 4,
  "nbformat_minor": 0,
  "metadata": {
    "colab": {
      "provenance": [],
      "authorship_tag": "ABX9TyPjJGjwjGVhM/8u2x0cWZx/",
      "include_colab_link": true
    },
    "kernelspec": {
      "name": "python3",
      "display_name": "Python 3"
    },
    "language_info": {
      "name": "python"
    }
  },
  "cells": [
    {
      "cell_type": "markdown",
      "metadata": {
        "id": "view-in-github",
        "colab_type": "text"
      },
      "source": [
        "<a href=\"https://colab.research.google.com/github/GvMorais1/python2ma/blob/main/Aula2_ads2ma.ipynb\" target=\"_parent\"><img src=\"https://colab.research.google.com/assets/colab-badge.svg\" alt=\"Open In Colab\"/></a>"
      ]
    },
    {
      "cell_type": "code",
      "execution_count": 5,
      "metadata": {
        "colab": {
          "base_uri": "https://localhost:8080/"
        },
        "id": "3DYpNMFCc8hu",
        "outputId": "232e354d-45f5-4195-a402-6aac783bbe75"
      },
      "outputs": [
        {
          "output_type": "stream",
          "name": "stdout",
          "text": [
            "False\n"
          ]
        }
      ],
      "source": [
        "# UNINASSAU\n",
        "# DOCENTE: CLOVES ROCHA\n",
        "# ESTUDANDE: EDILSON CAVALCANTE, GUILHERME MORAIS\n",
        "# OPERDORES RELACIONAIS\n",
        "\n",
        "\n",
        "#print('Hello World!')\n",
        "\n",
        "nota1 = 7\n",
        "nota2 = 7\n",
        "print(nota1 != nota2)\n",
        "\n"
      ]
    },
    {
      "cell_type": "code",
      "source": [
        "# UNINASSAU\n",
        "# DOCENTE: CLOVES ROCHA\n",
        "# ESTUDANDE: EDILSON CAVALCANTE, GUILHERME MORAIS\n",
        "# FUNÇÃO INPUT().\n",
        "\n",
        "#print('Óla mundo')\n",
        "#nome = str(input('Digite o seu nome: '))\n",
        "#cpf = int(input('Digite o seu CPF: '))\n",
        "#print(nome)\n",
        "#print(cpf)\n",
        "\n",
        "idade = int(input('Digite a sua idade: '))\n",
        "print(f'Você tem {idade} anos.')\n",
        "print(type(idade))"
      ],
      "metadata": {
        "id": "dK5Eb_d9m4Sl",
        "colab": {
          "base_uri": "https://localhost:8080/"
        },
        "outputId": "e6defd14-4079-4249-fb38-edf5b01637a7"
      },
      "execution_count": 13,
      "outputs": [
        {
          "output_type": "stream",
          "name": "stdout",
          "text": [
            "Digite a sua idade: 19\n",
            "Você tem 19 anos.\n",
            "<class 'int'>\n"
          ]
        }
      ]
    },
    {
      "cell_type": "code",
      "source": [
        "# UNINASSAU\n",
        "# DOCENTE: CLOVES ROCHA\n",
        "# ESTUDANDE: EDILSON CAVALCANTE, GUILHERME MORAIS\n",
        "# ESTRUTURAS CONDICIONAIS\n",
        "\n",
        "numero= int(input('Digite a seu numero: '))\n",
        "if numero % 2 == 0:\n",
        "  print (f'O número {numero} é par.')\n",
        "else:\n",
        "    print(f'O número {numero} é impar')"
      ],
      "metadata": {
        "colab": {
          "base_uri": "https://localhost:8080/"
        },
        "id": "GwEVAv0swyK1",
        "outputId": "55855482-d599-4ad5-952f-efed4badaeee"
      },
      "execution_count": 18,
      "outputs": [
        {
          "output_type": "stream",
          "name": "stdout",
          "text": [
            "Digite a seu numero: 3652352\n",
            "O número 3652352 é par.\n"
          ]
        }
      ]
    },
    {
      "cell_type": "code",
      "source": [
        "# UNINASSAU\n",
        "# DOCENTE: CLOVES ROCHA\n",
        "# ESTUDANDE: EDILSON CAVALCANTE, GUILHERME MORAIS\n",
        "# ESTRUTURAS CONDICIONAIS ANINHADAS E O ELIF.\n",
        "\n",
        "num= int(input('Digite a seu numero: '))\n",
        "if num > 0:\n",
        "  print('Este número é positivo.')\n",
        "\n",
        "elif num == 0:\n",
        "  print('Este número é neutro.')\n",
        "\n",
        "else:\n",
        "  print('Este número é negativo')"
      ],
      "metadata": {
        "colab": {
          "base_uri": "https://localhost:8080/"
        },
        "id": "lLvwnRdo1USj",
        "outputId": "68561032-b4b6-4c3f-f9a1-02c59c98ecee"
      },
      "execution_count": 20,
      "outputs": [
        {
          "output_type": "stream",
          "name": "stdout",
          "text": [
            "Digite a seu numero: -4\n",
            "Este número é negativo\n"
          ]
        }
      ]
    },
    {
      "cell_type": "code",
      "source": [],
      "metadata": {
        "id": "p-4XeG2c3o8f"
      },
      "execution_count": null,
      "outputs": []
    }
  ]
}